{
 "cells": [
  {
   "cell_type": "code",
   "execution_count": 4,
   "metadata": {},
   "outputs": [],
   "source": [
    "# Install these libraries first in your environment\n",
    "import numpy as np\n",
    "from qiskit import QuantumCircuit, transpile\n",
    "from qiskit.visualization.counts_visualization import plot_histogram\n",
    "from qiskit_ibm_runtime import QiskitRuntimeService\n",
    "from qiskit.providers.fake_provider.backends_v1 import Fake20QV1\n",
    "from qiskit.transpiler.preset_passmanagers import generate_preset_pass_manager"
   ]
  },
  {
   "cell_type": "code",
   "execution_count": 27,
   "metadata": {},
   "outputs": [],
   "source": [
    "def generate_random_bits(num_bits):\n",
    "    # Create a quantum circuit with num_bits qubits\n",
    "    qrng_circuit = QuantumCircuit(num_bits, num_bits)\n",
    "\n",
    "    # Apply Hadamard gate to all qubits\n",
    "    for qubit in range(num_bits):\n",
    "        qrng_circuit.h(qubit)\n",
    "\n",
    "    # Measure all qubits\n",
    "    qrng_circuit.measure(range(num_bits), range(num_bits))\n",
    "\n",
    "    service = QiskitRuntimeService(\n",
    "        channel=\"ibm_quantum\",\n",
    "        token=\"a2447d848eadc929b98ceb7cc95f387c1c4c9455d719e9c0c3d67a6a970fe2ba518a5341a86cf1b90fc80c37cb4d1f48826eb08962653c16ee2bd9d01b91d8ef\",\n",
    "    )\n",
    "    backend = service.least_busy(simulator=False, operational=True)\n",
    "\n",
    "    # backend = Fake20QV1()\n",
    "\n",
    "    # Creating the simulator job. You must transpile any ciruit to whatever (real or fake) quantum backend you are using.\n",
    "    job = backend.run(transpile(qrng_circuit, backend), shots=5000, memory=True)\n",
    "\n",
    "    # Getting the job results in dictionary results form. You can also access the individual output in tuple form using the jobResult.get_memory() function\n",
    "    resultCounts = job.result().get_counts()\n",
    "\n",
    "    results = []\n",
    "    # Iterate through the dictionary\n",
    "    for bit_string, frequency in resultCounts.items():\n",
    "        # Add each key to the results list as many times as its frequency\n",
    "        for _ in range(frequency):\n",
    "            results.append(bit_string + \" 1\")\n",
    "\n",
    "    # Path to the output file\n",
    "    output_file_path = \"GeneratedRandomBits.txt\"\n",
    "    # Write the results to the file\n",
    "    with open(output_file_path, \"a\") as file:\n",
    "        for line in results:\n",
    "            file.write(line + \"\\n\")"
   ]
  },
  {
   "cell_type": "code",
   "execution_count": null,
   "metadata": {},
   "outputs": [],
   "source": [
    "results = []\n",
    "num_bits = 100\n",
    "generate_random_bits(num_bits)"
   ]
  },
  {
   "cell_type": "code",
   "execution_count": 25,
   "metadata": {},
   "outputs": [],
   "source": [
    "import random\n",
    "\n",
    "def generate_bit_string(length):\n",
    "    # Generate a random bit string of the given length\n",
    "    return \"\".join(random.choice(\"01\") for _ in range(length))\n",
    "\n",
    "\n",
    "output_file_path = \"GeneratedRandomBits.txt\"\n",
    "\n",
    "# Append the generated bit strings to the file\n",
    "with open(output_file_path, \"a\") as file:\n",
    "    for _ in range(5000):  # Repeat 5000 times\n",
    "        bit_string = (generate_bit_string(100) + \" 2\")  \n",
    "        file.write(bit_string + \"\\n\")"
   ]
  }
 ],
 "metadata": {
  "kernelspec": {
   "display_name": ".venv",
   "language": "python",
   "name": "python3"
  },
  "language_info": {
   "codemirror_mode": {
    "name": "ipython",
    "version": 3
   },
   "file_extension": ".py",
   "mimetype": "text/x-python",
   "name": "python",
   "nbconvert_exporter": "python",
   "pygments_lexer": "ipython3",
   "version": "3.9.6"
  }
 },
 "nbformat": 4,
 "nbformat_minor": 2
}
