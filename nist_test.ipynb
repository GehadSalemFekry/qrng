{
  "nbformat": 4,
  "nbformat_minor": 0,
  "metadata": {
    "colab": {
      "provenance": []
    },
    "kernelspec": {
      "name": "python3",
      "display_name": "Python 3"
    },
    "language_info": {
      "name": "python"
    }
  },
  "cells": [
    {
      "cell_type": "code",
      "execution_count": 1,
      "metadata": {
        "colab": {
          "base_uri": "https://localhost:8080/"
        },
        "id": "U9vUwhuVRu7H",
        "outputId": "58a107b6-607d-4890-a7be-8846d66be7e1"
      },
      "outputs": [
        {
          "output_type": "stream",
          "name": "stdout",
          "text": [
            "Cloning into 'randomness_testsuite'...\n",
            "remote: Enumerating objects: 169, done.\u001b[K\n",
            "remote: Counting objects: 100% (60/60), done.\u001b[K\n",
            "remote: Compressing objects: 100% (44/44), done.\u001b[K\n",
            "remote: Total 169 (delta 28), reused 35 (delta 15), pack-reused 109\u001b[K\n",
            "Receiving objects: 100% (169/169), 914.17 KiB | 5.61 MiB/s, done.\n",
            "Resolving deltas: 100% (77/77), done.\n"
          ]
        }
      ],
      "source": [
        "!git clone https://github.com/stevenang/randomness_testsuite.git"
      ]
    },
    {
      "cell_type": "code",
      "source": [
        "%cd randomness_testsuite"
      ],
      "metadata": {
        "colab": {
          "base_uri": "https://localhost:8080/"
        },
        "id": "29cztc-mRzcO",
        "outputId": "b73da0c9-dfd2-4adf-8d51-20638f64026b"
      },
      "execution_count": 2,
      "outputs": [
        {
          "output_type": "stream",
          "name": "stdout",
          "text": [
            "/content/randomness_testsuite\n"
          ]
        }
      ]
    },
    {
      "cell_type": "code",
      "source": [
        "from scipy import zeros"
      ],
      "metadata": {
        "id": "Y-Fctn33Syjb"
      },
      "execution_count": 3,
      "outputs": []
    },
    {
      "cell_type": "code",
      "source": [
        "!pip install scipy==1.6.2"
      ],
      "metadata": {
        "colab": {
          "base_uri": "https://localhost:8080/",
          "height": 829
        },
        "id": "8B0O4nVpSNnK",
        "outputId": "75d29ac5-b215-459b-89e4-5d6054a99710"
      },
      "execution_count": 12,
      "outputs": [
        {
          "output_type": "stream",
          "name": "stdout",
          "text": [
            "Collecting scipy==1.7.3\n",
            "  Downloading scipy-1.7.3-cp310-cp310-manylinux_2_17_x86_64.manylinux2014_x86_64.whl.metadata (2.2 kB)\n",
            "Collecting numpy<1.23.0,>=1.16.5 (from scipy==1.7.3)\n",
            "  Downloading numpy-1.22.4-cp310-cp310-manylinux_2_17_x86_64.manylinux2014_x86_64.whl.metadata (2.0 kB)\n",
            "Downloading scipy-1.7.3-cp310-cp310-manylinux_2_17_x86_64.manylinux2014_x86_64.whl (39.9 MB)\n",
            "\u001b[2K   \u001b[90m━━━━━━━━━━━━━━━━━━━━━━━━━━━━━━━━━━━━━━━━\u001b[0m \u001b[32m39.9/39.9 MB\u001b[0m \u001b[31m15.3 MB/s\u001b[0m eta \u001b[36m0:00:00\u001b[0m\n",
            "\u001b[?25hDownloading numpy-1.22.4-cp310-cp310-manylinux_2_17_x86_64.manylinux2014_x86_64.whl (16.8 MB)\n",
            "\u001b[2K   \u001b[90m━━━━━━━━━━━━━━━━━━━━━━━━━━━━━━━━━━━━━━━━\u001b[0m \u001b[32m16.8/16.8 MB\u001b[0m \u001b[31m66.9 MB/s\u001b[0m eta \u001b[36m0:00:00\u001b[0m\n",
            "\u001b[?25hInstalling collected packages: numpy, scipy\n",
            "  Attempting uninstall: numpy\n",
            "    Found existing installation: numpy 1.26.4\n",
            "    Uninstalling numpy-1.26.4:\n",
            "      Successfully uninstalled numpy-1.26.4\n",
            "  Attempting uninstall: scipy\n",
            "    Found existing installation: scipy 1.13.1\n",
            "    Uninstalling scipy-1.13.1:\n",
            "      Successfully uninstalled scipy-1.13.1\n",
            "\u001b[31mERROR: pip's dependency resolver does not currently take into account all the packages that are installed. This behaviour is the source of the following dependency conflicts.\n",
            "xgboost 2.1.1 requires nvidia-nccl-cu12; platform_system == \"Linux\" and platform_machine != \"aarch64\", which is not installed.\n",
            "albucore 0.0.13 requires numpy<2,>=1.24.4, but you have numpy 1.22.4 which is incompatible.\n",
            "albumentations 1.4.13 requires numpy>=1.24.4, but you have numpy 1.22.4 which is incompatible.\n",
            "albumentations 1.4.13 requires scipy>=1.10.0, but you have scipy 1.7.3 which is incompatible.\n",
            "arviz 0.18.0 requires numpy<2.0,>=1.23.0, but you have numpy 1.22.4 which is incompatible.\n",
            "arviz 0.18.0 requires scipy>=1.9.0, but you have scipy 1.7.3 which is incompatible.\n",
            "astropy 6.1.2 requires numpy>=1.23, but you have numpy 1.22.4 which is incompatible.\n",
            "chex 0.1.86 requires numpy>=1.24.1, but you have numpy 1.22.4 which is incompatible.\n",
            "cudf-cu12 24.4.1 requires numpy<2.0a0,>=1.23, but you have numpy 1.22.4 which is incompatible.\n",
            "jax 0.4.26 requires scipy>=1.9, but you have scipy 1.7.3 which is incompatible.\n",
            "jaxlib 0.4.26+cuda12.cudnn89 requires scipy>=1.9, but you have scipy 1.7.3 which is incompatible.\n",
            "numexpr 2.10.1 requires numpy>=1.23.0, but you have numpy 1.22.4 which is incompatible.\n",
            "pandas-stubs 2.1.4.231227 requires numpy>=1.26.0; python_version < \"3.13\", but you have numpy 1.22.4 which is incompatible.\n",
            "plotnine 0.12.4 requires numpy>=1.23.0, but you have numpy 1.22.4 which is incompatible.\n",
            "rmm-cu12 24.4.0 requires numpy<2.0a0,>=1.23, but you have numpy 1.22.4 which is incompatible.\n",
            "scikit-image 0.23.2 requires numpy>=1.23, but you have numpy 1.22.4 which is incompatible.\n",
            "scikit-image 0.23.2 requires scipy>=1.9, but you have scipy 1.7.3 which is incompatible.\n",
            "statsmodels 0.14.2 requires scipy!=1.9.2,>=1.8, but you have scipy 1.7.3 which is incompatible.\n",
            "tensorflow 2.17.0 requires numpy<2.0.0,>=1.23.5; python_version <= \"3.11\", but you have numpy 1.22.4 which is incompatible.\n",
            "xarray 2024.6.0 requires numpy>=1.23, but you have numpy 1.22.4 which is incompatible.\n",
            "xarray-einstats 0.7.0 requires scipy>=1.8, but you have scipy 1.7.3 which is incompatible.\u001b[0m\u001b[31m\n",
            "\u001b[0mSuccessfully installed numpy-1.22.4 scipy-1.7.3\n"
          ]
        },
        {
          "output_type": "display_data",
          "data": {
            "application/vnd.colab-display-data+json": {
              "pip_warning": {
                "packages": [
                  "numpy",
                  "scipy"
                ]
              },
              "id": "e162dff5a1674438a476655f78094c7a"
            }
          },
          "metadata": {}
        }
      ]
    },
    {
      "cell_type": "code",
      "source": [
        "import numpy as np\n",
        "import pandas as pd\n",
        "\n",
        "file_path = '/content/quantum.txt'\n",
        "\n",
        "with open(file_path, 'r') as file:\n",
        "    data = file.readlines()\n",
        "\n",
        "# Split data into sequences and labels\n",
        "sequences = []\n",
        "labels = []\n",
        "\n",
        "for line in data:\n",
        "    sequence= line.strip()\n",
        "    sequences.append(sequence)"
      ],
      "metadata": {
        "id": "TXY2TjzIjtpF"
      },
      "execution_count": 8,
      "outputs": []
    },
    {
      "cell_type": "code",
      "source": [
        "!git clone https://github.com/stevenang/randomness_testsuite.git"
      ],
      "metadata": {
        "colab": {
          "base_uri": "https://localhost:8080/"
        },
        "id": "dijJ8WDHkqmj",
        "outputId": "63fdda1b-303a-4b92-e533-0251f4652634"
      },
      "execution_count": 10,
      "outputs": [
        {
          "output_type": "stream",
          "name": "stdout",
          "text": [
            "Cloning into 'randomness_testsuite'...\n",
            "remote: Enumerating objects: 169, done.\u001b[K\n",
            "remote: Counting objects: 100% (60/60), done.\u001b[K\n",
            "remote: Compressing objects: 100% (44/44), done.\u001b[K\n",
            "remote: Total 169 (delta 28), reused 35 (delta 15), pack-reused 109\u001b[K\n",
            "Receiving objects: 100% (169/169), 914.17 KiB | 8.46 MiB/s, done.\n",
            "Resolving deltas: 100% (77/77), done.\n"
          ]
        }
      ]
    },
    {
      "cell_type": "code",
      "source": [
        "%cd randomness_testsuite"
      ],
      "metadata": {
        "colab": {
          "base_uri": "https://localhost:8080/"
        },
        "id": "o8HS5MNVk1PM",
        "outputId": "f98e97d8-7959-4677-de28-d056cb943c57"
      },
      "execution_count": 11,
      "outputs": [
        {
          "output_type": "stream",
          "name": "stdout",
          "text": [
            "/content/randomness_testsuite/randomness_testsuite\n"
          ]
        }
      ]
    },
    {
      "cell_type": "code",
      "source": [
        "import os\n",
        "from FrequencyTest import FrequencyTest\n",
        "from RunTest import RunTest\n",
        "from Matrix import Matrix\n",
        "from Spectral import SpectralTest\n",
        "from TemplateMatching import TemplateMatching\n",
        "from Universal import Universal\n",
        "from Complexity import ComplexityTest\n",
        "from Serial import Serial\n",
        "from ApproximateEntropy import ApproximateEntropy\n",
        "from CumulativeSum import CumulativeSums\n",
        "from RandomExcursions import RandomExcursions\n",
        "\n",
        "\n",
        "result = RandomExcursions.random_excursions_test(sequences)\n",
        "print('2.14. Random Excursion Test:')\n",
        "print('\\t\\t STATE \\t\\t\\t xObs \\t\\t\\t\\t P-Value \\t\\t\\t Conclusion')\n",
        "\n",
        "for item in result:\n",
        "    print('\\t\\t', repr(item[0]).rjust(4), '\\t\\t', item[2], '\\t\\t', repr(item[3]).ljust(14), '\\t\\t',\n",
        "          (item[4] >= 0.01))"
      ],
      "metadata": {
        "colab": {
          "base_uri": "https://localhost:8080/"
        },
        "id": "RGQwjGk6R5yt",
        "outputId": "7ae5dd0b-2033-42b2-928e-191cf8a9a5df"
      },
      "execution_count": 14,
      "outputs": [
        {
          "output_type": "stream",
          "name": "stdout",
          "text": [
            "2.14. Random Excursion Test:\n",
            "\t\t STATE \t\t\t xObs \t\t\t\t P-Value \t\t\t Conclusion\n",
            "\t\t '-4' \t\t 0.14285714285714285 \t\t 0.9996100613790039 \t\t True\n",
            "\t\t '-3' \t\t 0.2 \t\t 0.9991138612111875 \t\t True\n",
            "\t\t '-2' \t\t 0.3333333333333333 \t\t 0.9969687632568645 \t\t True\n",
            "\t\t '-1' \t\t 1.0 \t\t 0.9625657732472964 \t\t True\n",
            "\t\t '+1' \t\t 3.0 \t\t 0.6999858358786276 \t\t True\n",
            "\t\t '+2' \t\t 15.0 \t\t 0.010362337915786429 \t\t True\n",
            "\t\t '+3' \t\t 35.0 \t\t 1.5046506621757205e-06 \t\t False\n",
            "\t\t '+4' \t\t 63.0 \t\t 2.9111549198896303e-12 \t\t False\n"
          ]
        }
      ]
    },
    {
      "cell_type": "code",
      "source": [],
      "metadata": {
        "id": "syhe4ifZR-TN"
      },
      "execution_count": null,
      "outputs": []
    }
  ]
}